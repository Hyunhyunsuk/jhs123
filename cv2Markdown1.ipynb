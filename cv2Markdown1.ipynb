{
 "cells": [
  {
   "cell_type": "markdown",
   "id": "68b2ec3b",
   "metadata": {},
   "source": [
    "## 각 필요 요소 import\n",
    "import cv2\n",
    "\n",
    "import numpy as np\n",
    "\n",
    "from matplotlib import pyplot as plt"
   ]
  },
  {
   "cell_type": "markdown",
   "id": "72160609",
   "metadata": {},
   "source": [
    "## Chosun.jpg 라는 이미지 파일을 불러오기\n",
    "\n",
    "image = cv2.imread('Chosun.jpg')\n",
    "\n",
    "image_gray = cv2.imread('Chosun.jpg', cv2.IMREAD_GRAYSCALE)"
   ]
  },
  {
   "cell_type": "markdown",
   "id": "9b6c7893",
   "metadata": {},
   "source": [
    "## Chosun.jpg 띄우기\n",
    "\n",
    "b,g,r = cv2.split(image)\n",
    "\n",
    "image2 = cv2.merge([r,g,b])\n",
    " \n",
    "plt.imshow(image2)\n",
    "\n",
    "plt.xticks([])\n",
    "\n",
    "plt.yticks([])\n",
    "\n",
    "plt.show()"
   ]
  },
  {
   "cell_type": "markdown",
   "id": "47f45f8b",
   "metadata": {},
   "source": [
    "## 블러 처리를 통한 외곽찾기\n",
    "\n",
    "blur = cv2.GaussianBlur(image_gray, ksize=(5,5), sigmaX=0)\n",
    "\n",
    "ret, thresh1 = cv2.threshold(blur, 127, 255, cv2.THRESH_BINARY)"
   ]
  },
  {
   "cell_type": "markdown",
   "id": "5f90b824",
   "metadata": {},
   "source": [
    "## Canny() 를 사용한 외곽코드\n",
    "\n",
    "edged = cv2.Canny(blur, 10, 250)\n",
    "\n",
    "cv2.imshow('Edged', edged)\n",
    "\n",
    "cv2.waitKey(0)"
   ]
  }
 ],
 "metadata": {
  "kernelspec": {
   "display_name": "Python 3 (ipykernel)",
   "language": "python",
   "name": "python3"
  },
  "language_info": {
   "codemirror_mode": {
    "name": "ipython",
    "version": 3
   },
   "file_extension": ".py",
   "mimetype": "text/x-python",
   "name": "python",
   "nbconvert_exporter": "python",
   "pygments_lexer": "ipython3",
   "version": "3.9.12"
  }
 },
 "nbformat": 4,
 "nbformat_minor": 5
}
